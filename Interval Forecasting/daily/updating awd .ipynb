{
 "cells": [
  {
   "cell_type": "code",
   "execution_count": 1,
   "id": "286ea770",
   "metadata": {},
   "outputs": [
    {
     "name": "stdout",
     "output_type": "stream",
     "text": [
      "Updated file saved to dr_results_with_awd.csv\n"
     ]
    }
   ],
   "source": [
    "import pandas as pd\n",
    "import numpy as np\n",
    "\n",
    "# Load the data\n",
    "file_path = 'dr_results.csv'\n",
    "data = pd.read_csv(file_path)\n",
    "\n",
    "# Function to calculate width deviation for each interval\n",
    "def calculate_awd(lower_bounds, upper_bounds):\n",
    "    lower_bounds = np.array(eval(lower_bounds))\n",
    "    upper_bounds = np.array(eval(upper_bounds))\n",
    "    widths = upper_bounds - lower_bounds\n",
    "    mean_width = np.mean(widths)\n",
    "    width_deviation = np.abs(widths - mean_width)\n",
    "    awd = np.mean(width_deviation)\n",
    "    return awd\n",
    "\n",
    "# Apply the function to each row\n",
    "data['AWD'] = data.apply(lambda row: calculate_awd(row['Lower Bounds'], row['Upper Bounds']), axis=1)\n",
    "\n",
    "# Save the updated dataframe to a new CSV file\n",
    "updated_file_path = 'dr_results_with_awd.csv'\n",
    "data.to_csv(updated_file_path, index=False)\n",
    "\n",
    "print(f'Updated file saved to {updated_file_path}')\n"
   ]
  },
  {
   "cell_type": "code",
   "execution_count": 6,
   "id": "f0a8b707",
   "metadata": {},
   "outputs": [
    {
     "name": "stdout",
     "output_type": "stream",
     "text": [
      "Results are saved to avg_dr_results_with_awd.csv\n"
     ]
    }
   ],
   "source": [
    "# Load the results\n",
    "import ast\n",
    "all_results_df = pd.read_csv(\"dr_results_with_awd.csv\")\n",
    "\n",
    "# Convert 'Lower Bounds' and 'Upper Bounds' from strings to lists\n",
    "all_results_df['Lower Bounds'] = all_results_df['Lower Bounds'].apply(ast.literal_eval)\n",
    "all_results_df['Upper Bounds'] = all_results_df['Upper Bounds'].apply(ast.literal_eval)\n",
    "\n",
    "# Aggregate results and calculate average metrics\n",
    "grouped = all_results_df.groupby(['Confidence Level', 'Model'])\n",
    "avg_results = []\n",
    "\n",
    "for name, group in grouped:\n",
    "    avg_picp = group['PICP'].mean()\n",
    "    avg_pinaw = group['PINAW'].mean()\n",
    "    avg_ace = group['ACE'].mean()\n",
    "    avg_awe = group['AWE'].mean()\n",
    "    avg_awd = group['AWD'].mean()\n",
    "    std_picp = group['PICP'].std()\n",
    "    std_pinaw = group['PINAW'].std()\n",
    "    std_ace = group['ACE'].std()\n",
    "    std_awe = group['AWE'].std()\n",
    "    std_awd = group['AWD'].std()\n",
    "    \n",
    "    lower_bounds = group['Lower Bounds'].apply(np.array).values\n",
    "    upper_bounds = group['Upper Bounds'].apply(np.array).values\n",
    "    \n",
    "    lower_bounds_avg = np.mean(np.vstack(lower_bounds), axis=0).tolist()\n",
    "    upper_bounds_avg = np.mean(np.vstack(upper_bounds), axis=0).tolist()\n",
    "    \n",
    "    avg_results.append({\n",
    "        'Confidence Level': name[0],\n",
    "        'Model': name[1],\n",
    "        'Avg PICP': avg_picp,\n",
    "        'Std PICP': std_picp,\n",
    "        'Avg PINAW': avg_pinaw,\n",
    "        'Std PINAW': std_pinaw,\n",
    "        'Avg ACE': avg_ace,\n",
    "        'Std ACE': std_ace,\n",
    "        'Avg AWE': avg_awe,\n",
    "         'Std AWE': std_awe,\n",
    "        'Avg AWD' : avg_awd,\n",
    "        'Std AWD' : std_awd,\n",
    "        'Lower Bounds': lower_bounds_avg,\n",
    "        'Upper Bounds': upper_bounds_avg,\n",
    "    })\n",
    "\n",
    "# Save the averaged results to a CSV file\n",
    "avg_results_df = pd.DataFrame(avg_results)\n",
    "avg_results_df.to_csv('avg_dr_results_with_awd.csv', index=False)\n",
    "print(\"Results are saved to avg_dr_results_with_awd.csv\")"
   ]
  },
  {
   "cell_type": "code",
   "execution_count": null,
   "id": "1405f40f",
   "metadata": {},
   "outputs": [],
   "source": []
  }
 ],
 "metadata": {
  "kernelspec": {
   "display_name": "Python 3 (ipykernel)",
   "language": "python",
   "name": "python3"
  },
  "language_info": {
   "codemirror_mode": {
    "name": "ipython",
    "version": 3
   },
   "file_extension": ".py",
   "mimetype": "text/x-python",
   "name": "python",
   "nbconvert_exporter": "python",
   "pygments_lexer": "ipython3",
   "version": "3.11.0"
  }
 },
 "nbformat": 4,
 "nbformat_minor": 5
}
